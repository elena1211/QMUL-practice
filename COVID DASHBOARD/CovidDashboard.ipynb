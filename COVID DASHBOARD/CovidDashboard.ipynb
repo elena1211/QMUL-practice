{
 "cells": [
  {
   "cell_type": "markdown",
   "metadata": {},
   "source": [
    "# COVID-19 Dashboard\n",
    "This dashboard visualises COVID-19 statistics, including daily cases and deaths. \n",
    "\n",
    "## Instructions\n",
    "- Use the dropdown menu to select the metric to display.\n",
    "- Click \"Refresh Data\" to fetch the latest statistics from the UKHSA API."
   ]
  },
  {
   "cell_type": "code",
   "execution_count": null,
   "metadata": {},
   "outputs": [
    {
     "data": {
      "application/vnd.jupyter.widget-view+json": {
       "model_id": "1c263eef1d934594b82a70617c1f9664",
       "version_major": 2,
       "version_minor": 0
      },
      "text/plain": [
       "Button(button_style='primary', description='Refresh Data', icon='refresh', style=ButtonStyle(), tooltip='Click…"
      ]
     },
     "metadata": {},
     "output_type": "display_data"
    },
    {
     "data": {
      "application/vnd.jupyter.widget-view+json": {
       "model_id": "81063aef4d414c5f91dff4ed6ebf8b7b",
       "version_major": 2,
       "version_minor": 0
      },
      "text/plain": [
       "Dropdown(description='Select Metric:', options={'New Cases': 'newCases', 'Cumulative Cases': 'cumCases', 'New …"
      ]
     },
     "metadata": {},
     "output_type": "display_data"
    },
    {
     "data": {
      "application/vnd.jupyter.widget-view+json": {
       "model_id": "32a8c7c607914e95aa5698ce7f966250",
       "version_major": 2,
       "version_minor": 0
      },
      "text/plain": [
       "Output()"
      ]
     },
     "metadata": {},
     "output_type": "display_data"
    }
   ],
   "source": [
    "from IPython.display import clear_output\n",
    "import ipywidgets as wdg\n",
    "import pandas as pd\n",
    "import numpy as np\n",
    "import matplotlib.pyplot as plt\n",
    "import requests\n",
    "import time\n",
    "import json\n",
    "\n",
    "%matplotlib inline\n",
    "plt.rcParams['figure.dpi'] = 100\n",
    "\n",
    "with open(\"data.json\", \"r\") as f:\n",
    "    local_data = json.load(f)\n",
    "\n",
    "def wrangle_data(rawdata):\n",
    "    df = pd.DataFrame(rawdata[\"data\"])\n",
    "    df[\"date\"] = pd.to_datetime(df[\"date\"], format='%d/%m/%Y')\n",
    "    df.set_index('date', inplace=True)\n",
    "    for col in ['newCases', 'cumCases', 'newDeaths', 'cumDeaths']:\n",
    "        if col not in df.columns:\n",
    "            df[col] = np.nan \n",
    "    return df\n",
    "\n",
    "df = wrangle_data(local_data)\n",
    "\n",
    "# fetch data from the UKHSA API\n",
    "def fetch_api_data():\n",
    "    base_url = \"https://api.ukhsa-dashboard.data.gov.uk\"\n",
    "    structure = {\n",
    "        \"theme\": \"infectious_disease\",\n",
    "        \"sub_theme\": \"respiratory\",\n",
    "        \"topic\": \"COVID-19\",\n",
    "        \"geography_type\": \"Nation\",\n",
    "        \"geography\": \"England\",\n",
    "        \"metric\": \"COVID-19_cases_casesByDay\"\n",
    "    }\n",
    "    url = f\"{base_url}/themes/{structure['theme']}/sub_themes/{structure['sub_theme']}/topics/{structure['topic']}/geography_types/{structure['geography_type']}/geographies/{structure['geography']}/metrics/{structure['metric']}\"\n",
    "    try:\n",
    "        time.sleep(0.34)\n",
    "        response = requests.get(url)\n",
    "        response.raise_for_status()\n",
    "        api_data = response.json()\n",
    "        print(\"Data successfully fetched from the API!\")\n",
    "        return api_data\n",
    "    except requests.exceptions.RequestException as e:\n",
    "        print(f\"Error fetching data from API: {e}\")\n",
    "        return None\n",
    "\n",
    "\n",
    "def process_api_data(api_data):\n",
    "    api_df = pd.DataFrame(api_data[\"results\"])\n",
    "    api_df[\"date\"] = pd.to_datetime(api_df[\"date\"], format='%Y-%m-%d')\n",
    "    api_df.set_index('date', inplace=True)\n",
    "    for col in ['newCases', 'cumCases', 'newDeaths', 'cumDeaths']:\n",
    "        if col not in api_df.columns:\n",
    "            api_df[col] = np.nan\n",
    "    return api_df\n",
    "\n",
    "def update_data():\n",
    "    global df\n",
    "    api_data = fetch_api_data()\n",
    "    if api_data:\n",
    "        api_df = process_api_data(api_data)\n",
    "        df = pd.concat([df, api_df]).drop_duplicates().sort_index()\n",
    "        print(\"Data has been updated with API data.\")\n",
    "    else:\n",
    "        print(\"Using local data due to API fetch error.\")\n",
    "\n",
    "# create a button to refresh the data\n",
    "def refresh_button_callback(button):\n",
    "    update_data()\n",
    "    refresh_graph()\n",
    "    refresh_button.description = 'Data Refreshed'\n",
    "    refresh_button.disabled = True\n",
    "\n",
    "refresh_button = wdg.Button(\n",
    "    description='Refresh Data',\n",
    "    disabled=False,\n",
    "    button_style='primary',\n",
    "    tooltip='Click to fetch current data from UKHSA API',\n",
    "    icon='refresh'\n",
    ")\n",
    "refresh_button.on_click(refresh_button_callback)\n",
    "\n",
    "display(refresh_button)\n",
    "\n",
    "metric_selector = wdg.Dropdown(\n",
    "    options={\n",
    "        \"New Cases\": \"newCases\",\n",
    "        \"Cumulative Cases\": \"cumCases\",\n",
    "        \"New Deaths\": \"newDeaths\",\n",
    "        \"Cumulative Deaths\": \"cumDeaths\"\n",
    "    },\n",
    "    value=\"newCases\",\n",
    "    description=\"Select Metric:\",\n",
    "    style={'description_width': 'initial'}\n",
    ")\n",
    "\n",
    "output = wdg.Output()\n",
    "\n",
    "def plot_data(metric):\n",
    "    with output:\n",
    "        clear_output(wait=True)\n",
    "        plt.figure(figsize=(10,6))\n",
    "        plt.plot(df.index, df[metric], marker='o', linestyle='-')\n",
    "        plt.title(f\"{metric_selector.label} over Time\")\n",
    "        plt.xlabel(\"Date\")\n",
    "        plt.ylabel(\"Number\")\n",
    "        plt.grid(True)\n",
    "        plt.tight_layout()\n",
    "        plt.show()\n",
    "\n",
    "def refresh_graph():\n",
    "    plot_data(metric_selector.value)\n",
    "\n",
    "metric_selector.observe(lambda change: refresh_graph(), names='value')\n",
    "\n",
    "display(metric_selector, output)\n",
    "\n",
    "refresh_graph()"
   ]
  }
 ],
 "metadata": {
  "kernelspec": {
   "display_name": "Python 3",
   "language": "python",
   "name": "python3"
  },
  "language_info": {
   "codemirror_mode": {
    "name": "ipython",
    "version": 3
   },
   "file_extension": ".py",
   "mimetype": "text/x-python",
   "name": "python",
   "nbconvert_exporter": "python",
   "pygments_lexer": "ipython3",
   "version": "3.13.0"
  }
 },
 "nbformat": 4,
 "nbformat_minor": 2
}
