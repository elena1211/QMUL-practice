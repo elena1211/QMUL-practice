{
 "cells": [
  {
   "cell_type": "markdown",
   "metadata": {},
   "source": [
    "Create a list ‘data’ comprising of N (say 10) numbers (integers and floating-point\n",
    "numbers). Display all the elements of the list created."
   ]
  },
  {
   "cell_type": "code",
   "execution_count": null,
   "metadata": {},
   "outputs": [],
   "source": [
    "data =[2,3.6,0.4,6,334,2241,1.23,46,11,67]"
   ]
  },
  {
   "cell_type": "markdown",
   "metadata": {},
   "source": [
    "Loop demonstration: Compute the sum and the mean of the elements in the ‘data’ list\n",
    "without using any in-built function. (E.g., you could use for-loop)\n",
    "Implement step 2 by defining your own function for computing the sum of all elements\n",
    "in the list and the mean of the list. [refer to Section 2.5]"
   ]
  },
  {
   "cell_type": "code",
   "execution_count": 3,
   "metadata": {},
   "outputs": [
    {
     "name": "stdout",
     "output_type": "stream",
     "text": [
      "2712.23\n",
      "271.223\n"
     ]
    }
   ],
   "source": [
    "data =[2,3.6,0.4,6,334,2241,1.23,46,11,67]\n",
    "\n",
    "def sum_list(data):\n",
    "    sum = 0\n",
    "    for i in data:\n",
    "        sum += i\n",
    "    return sum\n",
    "result = sum_list(data)\n",
    "print(result)\n",
    "\n",
    "mean = result/len(data)\n",
    "print(mean)"
   ]
  },
  {
   "cell_type": "markdown",
   "metadata": {},
   "source": [
    "Reverse all the elements in the list ‘data’ without using the reverse function. Hint: use\n",
    "list slicing and loop."
   ]
  },
  {
   "cell_type": "code",
   "execution_count": 4,
   "metadata": {},
   "outputs": [
    {
     "name": "stdout",
     "output_type": "stream",
     "text": [
      "[67, 11, 46, 1.23, 2241, 334, 6, 0.4, 3.6, 2]\n"
     ]
    }
   ],
   "source": [
    "data =[2,3.6,0.4,6,334,2241,1.23,46,11,67]\n",
    "reverse_list = data[::-1]\n",
    "print(reverse_list)"
   ]
  },
  {
   "cell_type": "markdown",
   "metadata": {},
   "source": [
    "Create a new list ‘data2’ with N elements of mixed data types (such as integer, floating\n",
    "points, strings). Create a new list ‘data3’ by appending ‘data2’ list to ‘data’. Further,\n",
    "create another list ‘data4’ by extending ‘data’ list with ‘data2’. Print the new list and\n",
    "observe the differences."
   ]
  },
  {
   "cell_type": "code",
   "execution_count": 7,
   "metadata": {},
   "outputs": [
    {
     "name": "stdout",
     "output_type": "stream",
     "text": [
      "[2, 3.6, 0.4, 6, 334, 2241, 1.23, 46, 11, 67, 6, 5.6, 5.4, 425, 3432, 21, 1.23, 232, 111, 'kitty']\n",
      "[2, 3.6, 0.4, 6, 334, 2241, 1.23, 46, 11, 67, [6, 5.6, 5.4, 425, 3432, 21, 1.23, 232, 111, 'kitty']]\n"
     ]
    }
   ],
   "source": [
    "data = [2,3.6,0.4,6,334,2241,1.23,46,11,67]\n",
    "data2 = [6,5.6,5.4,425,3432,21,1.23,232,111,\"kitty\"]\n",
    "data3 = data.copy()\n",
    "data3.extend(data2)\n",
    "data4 = data.copy()\n",
    "data4.append(data2)\n",
    "print(data3)\n",
    "print(data4)"
   ]
  },
  {
   "cell_type": "markdown",
   "metadata": {},
   "source": [
    "You are given the list scores = [40, 70.9, 89, 58, 90, 76, 68, 82, 91, 20]. Find a new list\n",
    "which will have elements greater than 70 only. Use list comprehension."
   ]
  },
  {
   "cell_type": "code",
   "execution_count": 8,
   "metadata": {},
   "outputs": [
    {
     "name": "stdout",
     "output_type": "stream",
     "text": [
      "[70.9, 89, 90, 76, 82, 91]\n"
     ]
    }
   ],
   "source": [
    "scores = [40, 70.9, 89, 58, 90, 76, 68, 82, 91, 20]\n",
    "greater_than_70 = []\n",
    "for i in scores:\n",
    "    if i > 70:\n",
    "        greater_than_70.append(i)\n",
    "print(greater_than_70)"
   ]
  },
  {
   "cell_type": "markdown",
   "metadata": {},
   "source": [
    "Create a new list ‘data4’ containing 10 integer numbers. Find all the even and odd\n",
    "numbers and put them in two separate lists: even list that will contain all the even\n",
    "numbers and odd list that will contain all the odd numbers of list ‘data4’. Use list\n",
    "comprehension."
   ]
  },
  {
   "cell_type": "code",
   "execution_count": 9,
   "metadata": {},
   "outputs": [
    {
     "name": "stdout",
     "output_type": "stream",
     "text": [
      "[2, 4, 6, 8, 10]\n",
      "[1, 3, 5, 7, 9]\n"
     ]
    }
   ],
   "source": [
    "data4 = [1,2,3,4,5,6,7,8,9,10]\n",
    "even_numbers = [num for num in data4 if num % 2 == 0]\n",
    "odd_numbers = [num for num in data4 if num % 2 != 0]\n",
    "print(even_numbers)\n",
    "print(odd_numbers)"
   ]
  }
 ],
 "metadata": {
  "kernelspec": {
   "display_name": "Python 3",
   "language": "python",
   "name": "python3"
  },
  "language_info": {
   "codemirror_mode": {
    "name": "ipython",
    "version": 3
   },
   "file_extension": ".py",
   "mimetype": "text/x-python",
   "name": "python",
   "nbconvert_exporter": "python",
   "pygments_lexer": "ipython3",
   "version": "3.13.0"
  }
 },
 "nbformat": 4,
 "nbformat_minor": 2
}
